{
 "cells": [
  {
   "cell_type": "code",
   "execution_count": 1,
   "metadata": {},
   "outputs": [],
   "source": [
    "# Let's start by defining an empty class!\n",
    "# The pass keyword indicates an empty block (that will be possibly filled with something later on)\n",
    "# or just indicates that no actions are designed for that scope\n",
    "#\n",
    "class Robot:\n",
    "    pass\n",
    "\n",
    "# We can create an instance of the class\n",
    "x = Robot()\n",
    "# ... there's are neither methods nor attributes, therefore it's just a namholder at the moment"
   ]
  },
  {
   "cell_type": "code",
   "execution_count": 2,
   "metadata": {},
   "outputs": [
    {
     "name": "stdout",
     "output_type": "stream",
     "text": [
      "arm manipulator Kuka\n"
     ]
    }
   ],
   "source": [
    "# Can we add class attributes \"on-the-fly\"? Yes! (but it's not a good practice!)\n",
    "Robot.type = \"arm manipulator\"\n",
    "Robot.brand = \"Kuka\"\n",
    "\n",
    "# These statements set both the name and the default value of a new attributed of the class\n",
    "print(x.type, x.brand)"
   ]
  },
  {
   "cell_type": "code",
   "execution_count": 3,
   "metadata": {},
   "outputs": [
    {
     "data": {
      "text/plain": [
       "mappingproxy({'__module__': '__main__',\n",
       "              '__dict__': <attribute '__dict__' of 'Robot' objects>,\n",
       "              '__weakref__': <attribute '__weakref__' of 'Robot' objects>,\n",
       "              '__doc__': None,\n",
       "              'type': 'arm manipulator',\n",
       "              'brand': 'Kuka'})"
      ]
     },
     "execution_count": 3,
     "metadata": {},
     "output_type": "execute_result"
    }
   ],
   "source": [
    "# Interesting ... we can dynamically adapt the structure of a class, if we want, \n",
    "# but how does this happen? Because behind the scenes classes are implemented using dictionaries, \n",
    "# such that adding an attribute is similar to add a key-value pair. \n",
    "# Invoking the magic method __dict__ reveals the structure\n",
    "#\n",
    "Robot.__dict__"
   ]
  },
  {
   "cell_type": "code",
   "execution_count": 4,
   "metadata": {},
   "outputs": [
    {
     "name": "stdout",
     "output_type": "stream",
     "text": [
      "humanoid SkyNet\n"
     ]
    }
   ],
   "source": [
    "# The values to the attributes are just the default, call-level, values. They can be overridden \n",
    "# inside an object\n",
    "#\n",
    "x.brand = \"SkyNet\"\n",
    "x.type = \"humanoid\"\n",
    "print(x.type, x.brand)"
   ]
  },
  {
   "cell_type": "code",
   "execution_count": 5,
   "metadata": {},
   "outputs": [
    {
     "name": "stdout",
     "output_type": "stream",
     "text": [
      "Robot - type: humanoid, brand: SkyNet\n"
     ]
    }
   ],
   "source": [
    "# Can we also add methods dynamically? Yes!\n",
    "def display_info(self, msg):\n",
    "    print(msg, 'type:', self.type + ',', 'brand:', self.brand)\n",
    "\n",
    "Robot.display_info = display_info\n",
    "x.display_info('Robot -')"
   ]
  },
  {
   "cell_type": "code",
   "execution_count": 6,
   "metadata": {},
   "outputs": [
    {
     "name": "stdout",
     "output_type": "stream",
     "text": [
      "wheeled\n",
      "wheeled\n",
      "False\n",
      "<__main__.Robot object at 0x1101dd710> <__main__.Robot object at 0x1101acf60>\n"
     ]
    }
   ],
   "source": [
    "# We have highlighted a connection between classes and dictionaries data structures,\n",
    "# let's see how classes can be effectvely used  to organize data.\n",
    "# A class has attributes + methods, but methods are optional, in a sense\n",
    "#\n",
    "class Robot:\n",
    "    type  = \"wheeled\"\n",
    "    brand = None\n",
    "    price = 0\n",
    "    since = 0\n",
    "\n",
    "x = Robot()\n",
    "print(x.type)\n",
    "\n",
    "y = Robot()\n",
    "print(y.type)\n",
    "\n",
    "\n",
    "print(x == y)\n",
    "print(x,y)\n",
    "# They are different, being different objects! We need to define a content-based equality \n",
    "# operator for the specific classes!"
   ]
  },
  {
   "cell_type": "code",
   "execution_count": 7,
   "metadata": {},
   "outputs": [],
   "source": [
    "# We can override the values of the default attributes and set them to whatever appropriate, \n",
    "# one by one\n",
    "y.brand = 'Kuka'\n",
    "y.type = 'arm manipulator'\n",
    "x.brand = 'SkyNet'"
   ]
  },
  {
   "cell_type": "code",
   "execution_count": 8,
   "metadata": {},
   "outputs": [
    {
     "name": "stdout",
     "output_type": "stream",
     "text": [
      "{'type': 'humanoid', 'brand': 'SkyNet', 'model': 'Conqueror', 'price': 10000000, 'since': 2020} \n",
      " {'type': 'wheeled', 'brand': 'Kuka', 'model': None, 'price': 50000, 'since': 0}\n"
     ]
    }
   ],
   "source": [
    "# A class with attributes only is however unnecessarily limiting: let's make little step further \n",
    "# and let's add an initializer, such that we can initialize class object with the right values \n",
    "# whenever a new class object is being created\n",
    "#\n",
    "class Robot:\n",
    "    def __init__(self, robot_type='wheeled', brand=None, model= None, price=0, since=0):\n",
    "        self.type  = robot_type\n",
    "        self.brand = brand\n",
    "        self.model = model\n",
    "        self.price = price\n",
    "        self.since = since\n",
    "\n",
    "# This is much better, we have the same result as before, but now we also have an initializer\n",
    "#\n",
    "x = Robot('humanoid', 'SkyNet', 'Conqueror', 10000000, 2020)\n",
    "y = Robot(brand='Kuka', price=50000)\n",
    "print(x.__dict__, '\\n', y.__dict__)\n"
   ]
  },
  {
   "cell_type": "code",
   "execution_count": 9,
   "metadata": {},
   "outputs": [],
   "source": [
    "# We can access the individual attributes of a specific class object by 'name'/ label\n",
    "#\n",
    "y.price = y.price * 1.2\n",
    "y.since = 2015"
   ]
  },
  {
   "cell_type": "code",
   "execution_count": 10,
   "metadata": {},
   "outputs": [
    {
     "name": "stdout",
     "output_type": "stream",
     "text": [
      "{'type': 'wheeled', 'brand': 'Kuka', 'model': '007', 'price': 50000, 'since': 0}\n",
      "50000 60000.0\n"
     ]
    }
   ],
   "source": [
    "# Indeed this is \"similar\" to using dictionaries, when an entry was accessed by a label\n",
    "ydict = {'type': 'wheeled', 'brand': 'Kuka', 'model': '007', 'price': 50000, 'since': 0}\n",
    "print(ydict)\n",
    "print(ydict['price'], y.price)\n",
    "# Maybe the class notation is cleaner ... and with classes with the do more ..."
   ]
  },
  {
   "cell_type": "code",
   "execution_count": 11,
   "metadata": {},
   "outputs": [],
   "source": [
    "# If we have many robots (e.g., we are selling them) we might need to organize and search data\n",
    "# We can define a dictionary, or a list, or a set of Robot objects\n",
    "robots = [Robot('humanoid', 'SkyNet', 'Conqueror', 10000000, 2020), \n",
    "          Robot(brand='Kuka', price=50000)]\n",
    "\n",
    "robots.append(Robot(brand=\"Pioneer\"))\n",
    "\n",
    "robots[2].model = 'Nav01'\n",
    "robots[1].model = 'AgileX'\n",
    "robots[1].since = 2016\n"
   ]
  },
  {
   "cell_type": "code",
   "execution_count": 12,
   "metadata": {},
   "outputs": [
    {
     "name": "stdout",
     "output_type": "stream",
     "text": [
      "Robot model and price: Conqueror humanoid\n",
      "Robot model and price: AgileX wheeled\n",
      "Robot model and price: Nav01 wheeled\n"
     ]
    }
   ],
   "source": [
    "# We can perform operations on list\n",
    "for r in robots:\n",
    "    print('Robot model and price:', r.model, r.type)"
   ]
  },
  {
   "cell_type": "code",
   "execution_count": 13,
   "metadata": {},
   "outputs": [],
   "source": [
    "# How do we sort the class objects? We need a criterion.\n",
    "# At this aim we can define a method that does the job!\n",
    "#\n",
    "def compare_obj(self):\n",
    "    return self.since * self.price  # an arbitrary criterion here...\n",
    "\n",
    "# Let's add it to the class definition\n",
    "Robot.compare_obj = compare_obj"
   ]
  },
  {
   "cell_type": "code",
   "execution_count": 14,
   "metadata": {},
   "outputs": [
    {
     "name": "stdout",
     "output_type": "stream",
     "text": [
      "SkyNet Conqueror 10000000 2020\n",
      "Kuka AgileX 50000 2016\n",
      "Pioneer Nav01 0 0\n"
     ]
    }
   ],
   "source": [
    "# Let's sort the robot by the given criterion. \n",
    "# Watch out: we are passing the class method as key function.\n",
    "#\n",
    "robots.sort(key = Robot.compare_obj, reverse = True)\n",
    "for r in robots:\n",
    "    print(r.brand, r.model, r.price, r.since)"
   ]
  },
  {
   "cell_type": "code",
   "execution_count": 15,
   "metadata": {},
   "outputs": [],
   "source": [
    "# Maybe we can also add a method to have a nice print out of the info about a robot\n",
    "#\n",
    "def get_info(self):\n",
    "    info = 'Model {} made by {} is a {} robot, price is {}, we have it since {}'.format(\n",
    "            self.model, self.brand, self.type, self.price, self.since)\n",
    "    return info\n",
    "Robot.get_info = get_info"
   ]
  },
  {
   "cell_type": "code",
   "execution_count": 16,
   "metadata": {},
   "outputs": [
    {
     "name": "stdout",
     "output_type": "stream",
     "text": [
      "Model Conqueror made by SkyNet is a humanoid robot, price is 10000000, we have it since 2020\n",
      "Model AgileX made by Kuka is a wheeled robot, price is 50000, we have it since 2016\n",
      "Model Nav01 made by Pioneer is a wheeled robot, price is 0, we have it since 0\n"
     ]
    }
   ],
   "source": [
    "# Let's use it on the sorted robot list\n",
    "#\n",
    "for r in robots:\n",
    "    print(r.get_info())"
   ]
  },
  {
   "cell_type": "code",
   "execution_count": 17,
   "metadata": {},
   "outputs": [],
   "source": [
    "# We see how naturally our class has been growing, and it's an extremely flexible tool to \n",
    "# represent and deal with information data. It provides a 'label-based' access to information, \n",
    "# and it pairs the information with the methods to manipulate it.\n",
    "#\n",
    "# Let's write down the full class so far.\n",
    "#\n",
    "class Robot:\n",
    "    def __init__(self, robot_type='wheeled', brand=None, model= None, price=0, since=0):\n",
    "        self.type  = robot_type\n",
    "        self.brand = brand\n",
    "        self.model = model\n",
    "        self.price = price\n",
    "        self.since = since\n",
    "        \n",
    "    def compare_obj(self):\n",
    "        return self.since * self.price  # an arbitrary criterion here...\n",
    "    \n",
    "    def get_info(self):\n",
    "        info = 'Model {} made by {} is a {} robot, price is {}, we have it since {}'.format(\n",
    "            self.model, self.brand, self.type, self.price, self.since)\n",
    "        return info  \n"
   ]
  },
  {
   "cell_type": "code",
   "execution_count": 18,
   "metadata": {},
   "outputs": [],
   "source": [
    "# One question: is it correct / appropriate / safe that the user of a class object \n",
    "# gets direct access to the attribute variables?\n",
    "# First, notice that in order to manipulate a class variable (e.g., by changing its value), \n",
    "# the user must be aware of the data type of the variable, and also how this is used (e.g., \n",
    "# it might have some restrictions on the values it takes). E.g., is price supposed to be \n",
    "# integer or float? Is since an integer or a date format?\n",
    "#\n",
    "# A good practice (information hiding) consists in hiding the details to the user, and providing \n",
    "# instead so-called getter and setter methods!\n",
    "# In our example it may seem a bit redundant, but it's the way to go to ensure code transparency,\n",
    "# reusability, and safety.\n",
    "#\n",
    "# Let's add one setter and one getter for the price attribute\n",
    "#\n",
    "def set_price(self, price):\n",
    "    self.price = price\n",
    "    \n",
    "def get_price(self):\n",
    "    return self.price\n",
    "\n",
    "Robot.set_price = set_price\n",
    "Robot.get_price = get_price\n"
   ]
  },
  {
   "cell_type": "code",
   "execution_count": 19,
   "metadata": {},
   "outputs": [
    {
     "name": "stdout",
     "output_type": "stream",
     "text": [
      "20500\n"
     ]
    }
   ],
   "source": [
    "x = Robot()\n",
    "x.set_price(20500)\n",
    "print(x.get_price())\n"
   ]
  },
  {
   "cell_type": "code",
   "execution_count": 20,
   "metadata": {},
   "outputs": [
    {
     "name": "stdout",
     "output_type": "stream",
     "text": [
      "Given price is negative!\n"
     ]
    }
   ],
   "source": [
    "# With setters we can do more things (e.g., checks), and ensure code safety\n",
    "#\n",
    "def set_price(self, price):\n",
    "    if price < 0:\n",
    "        print('Given price is negative!')\n",
    "        return -1\n",
    "    else:\n",
    "        self.price = price\n",
    "        return price\n",
    "\n",
    "Robot.set_price = set_price    \n",
    "\n",
    "price = -100\n",
    "if x.set_price(price) == -1:\n",
    "    x.set_price(-price)"
   ]
  },
  {
   "cell_type": "code",
   "execution_count": 21,
   "metadata": {},
   "outputs": [],
   "source": [
    "# Let's move to a more complex scenario a robot shop\n",
    "# Now the robot list is an attribute of the class\n",
    "# The shop starts with robot_num robots\n",
    "#\n",
    "class RobotShop():\n",
    "    def __init__(self, robot_num=0, model=None, robot_type=None ):\n",
    "        self.robots = []\n",
    "        for r in range(robot_num):\n",
    "            self.robots.append(Robot(robot_type, model, None, 0, 0))\n",
    "\n",
    "robot_shop = RobotShop(3, model='SkyNet', robot_type='humanoid')\n"
   ]
  },
  {
   "cell_type": "code",
   "execution_count": 22,
   "metadata": {},
   "outputs": [
    {
     "name": "stdout",
     "output_type": "stream",
     "text": [
      "Robot shop features 3 robots, for a total of 1 different models\n",
      "Model None, Brand SkyNet, Type humanoid, Price 0, Since 0\n",
      "Model None, Brand SkyNet, Type humanoid, Price 0, Since 0\n",
      "Model None, Brand SkyNet, Type humanoid, Price 0, Since 0\n",
      "\n"
     ]
    }
   ],
   "source": [
    "# Let's add a method for gathering info about the robots in the shop\n",
    "#\n",
    "def get_info(self):\n",
    "    models = set()    \n",
    "    for r in self.robots:\n",
    "        models.add(r.model)\n",
    "        \n",
    "    msg = 'Robot shop features {} robots, for a total of {} different models\\n'.format(\n",
    "            len(self.robots), len(models)) \n",
    "    \n",
    "    for r in self.robots:\n",
    "        msg += \"Model {}, Brand {}, Type {}, Price {}, Since {}\\n\".format(r.model, r.brand, \n",
    "                                                                   r.type, r.price, r.since)\n",
    "    return msg\n",
    "\n",
    "RobotShop.get_info = get_info\n",
    "\n",
    "print(robot_shop.get_info())"
   ]
  },
  {
   "cell_type": "code",
   "execution_count": 23,
   "metadata": {},
   "outputs": [],
   "source": [
    "# It's clear that we could add many other methods, for dealing with the complexity of\n",
    "# inventory, adding, removing, selling, inspecting, maintaining robots ...\n"
   ]
  },
  {
   "cell_type": "code",
   "execution_count": 24,
   "metadata": {
    "scrolled": true
   },
   "outputs": [],
   "source": [
    "# Let's move to another example, that will allow to discuss the notion of inheritance\n",
    "# Below a basic class for dealing with the operations of a bank account\n",
    "#\n",
    "class BankAccount:\n",
    "    def __init__(self, id_num, initial_balance):\n",
    "        self.balance = initial_balance\n",
    "        self.id = id_num\n",
    "        self.in_operations = 0\n",
    "        self.out_operations = 0\n",
    "\n",
    "    def withdraw(self, amount):\n",
    "        self.balance -= amount\n",
    "        self.out_operations += 1\n",
    "        return self.balance\n",
    "\n",
    "    def deposit(self, amount):\n",
    "        self.balance += amount\n",
    "        self.in_operations += 1\n",
    "        return self.balance\n",
    "    \n",
    "    def status(self):\n",
    "        return self.balance, self.in_operations, self.out_operations\n",
    "    \n",
    "    def get_id(self):\n",
    "        return(self.id)\n",
    "    \n",
    "    def add_stock_asset(self):\n",
    "        pass\n",
    "    \n",
    "    def get_stocks(self):\n",
    "        pass\n",
    "#    \n",
    "# These last two methods are empty. They are there to make it clear that, by design, \n",
    "# a class dealing with  bank accounts should have methods for dealing with stock assets. \n",
    "# We will see that in a derived class these methods could be filled with some appropriate code. "
   ]
  },
  {
   "cell_type": "code",
   "execution_count": 25,
   "metadata": {},
   "outputs": [],
   "source": [
    "# MinimumBalanceAccount is a derived class of a BankAccount class: it inherits all the \n",
    "# properties (attributes and methods) of the base (super) class BankAccount, and specializes / \n",
    "# override the method withdraw to address the needs of a bank account with a special limitation \n",
    "# in terms of minimum balance. The method withdraw() is an example of polymorphism: transparently, \n",
    "# the same 'name' can be used by objects of different classes, withdraw() is an overloaded method. \n",
    "# Also add_stock_asset() and get_stocks() are polymophic, however, if these methods are called \n",
    "# from the base class, nothing happens since they were empty there.\n",
    "#\n",
    "class MinimumBalanceAccount(BankAccount):\n",
    "    def __init__(self, id_num, minimum_balance):\n",
    "        BankAccount.__init__(self, id_num, minimum_balance)\n",
    "        self.minimum_balance = minimum_balance\n",
    "        self.assets = 0\n",
    "\n",
    "    def withdraw(self, amount):\n",
    "        if self.balance - amount < self.minimum_balance:\n",
    "            print('Sorry, minimum balance must be maintained. Current balance:', \n",
    "                  self.balance)\n",
    "        else:\n",
    "            BankAccount.withdraw(self, amount)\n",
    "        return self.balance\n",
    "    \n",
    "    def add_stock_asset(self, asset):\n",
    "        self.assets += asset\n",
    "    \n",
    "    def get_stocks(self):\n",
    "        return self.assets\n",
    "#    \n",
    "# Class variables of the base class can be invoked directly using the self. notation. \n",
    "# Equivalenty, methods from the base class can be invoked using self.method(). However, \n",
    "# if the method is overloaded in the derived class, in order to invoke the base class version, \n",
    "# the syntax beccomes: BaseClass.method(). This is the case of calling the __init__ and the\n",
    "# withdraw() methods in the code above (lines 10 and 18).\n",
    "#\n",
    "# "
   ]
  },
  {
   "cell_type": "code",
   "execution_count": 26,
   "metadata": {},
   "outputs": [
    {
     "name": "stdout",
     "output_type": "stream",
     "text": [
      "(11, 1, 1)\n",
      "None\n"
     ]
    }
   ],
   "source": [
    "# Example of use of the base class\n",
    "#\n",
    "john = BankAccount(9754, 10)\n",
    "john.deposit(100)\n",
    "john.withdraw(99)\n",
    "print(john.status())\n",
    "\n",
    "print(john.get_stocks())"
   ]
  },
  {
   "cell_type": "code",
   "execution_count": 27,
   "metadata": {},
   "outputs": [
    {
     "name": "stdout",
     "output_type": "stream",
     "text": [
      "(100, 0, 0)\n",
      "(300, 1, 0)\n",
      "(200, 1, 1)\n",
      "Sorry, minimum balance must be maintained. Current balance: 200\n",
      "(200, 1, 1)\n",
      "500\n"
     ]
    }
   ],
   "source": [
    "# Example of use of the derived class and of the overloaded methods\n",
    "#\n",
    "ann = MinimumBalanceAccount(76876, 100)\n",
    "print(ann.status())\n",
    "ann.deposit(200)\n",
    "print(ann.status())\n",
    "ann.withdraw(100)\n",
    "print(ann.status())\n",
    "ann.withdraw(200)\n",
    "print(ann.status())\n",
    "\n",
    "ann.add_stock_asset(500)\n",
    "print(ann.get_stocks())"
   ]
  },
  {
   "cell_type": "code",
   "execution_count": 28,
   "metadata": {},
   "outputs": [
    {
     "name": "stdout",
     "output_type": "stream",
     "text": [
      "Marge Simpson, 30, housemaker\n"
     ]
    }
   ],
   "source": [
    "# Another simple example of class inheritance\n",
    "# Let's define a class to represent a generic person\n",
    "#\n",
    "class Person:\n",
    "\n",
    "    def __init__(self, first, last, age=None):\n",
    "        self.firstname = first\n",
    "        self.lastname = last\n",
    "        self.age = age\n",
    "\n",
    "    def name(self):\n",
    "        return self.firstname + \" \" + self.lastname\n",
    "   \n",
    "    def set_age(self, age):\n",
    "        self.age = age\n",
    "        \n",
    "    def get_age(self):\n",
    "        return self.age\n",
    "    \n",
    "    def set_job(self, job):\n",
    "        self.job = job\n",
    "    \n",
    "    def get_job(self):\n",
    "        return self.job\n",
    "\n",
    "    def set_education(self, degrees):\n",
    "        pass\n",
    "    \n",
    "    def get_education(self):\n",
    "        pass\n",
    "    \n",
    "x = Person(\"Marge\", \"Simpson\", 30)\n",
    "x.set_job('housemaker')\n",
    "print('{}, {}, {}'.format(x.name(), x.get_age(), x.get_job()))"
   ]
  },
  {
   "cell_type": "code",
   "execution_count": 29,
   "metadata": {},
   "outputs": [
    {
     "name": "stdout",
     "output_type": "stream",
     "text": [
      "['Homer Simpson', '1007', 40, 'troublemaker', None]\n",
      "Bachelor: drinkology, Master: sofalogy, Doctorate: still enrolled\n"
     ]
    }
   ],
   "source": [
    "# An employee is a person + some other properties that are specific to the company / job. \n",
    "# Therefore, it makes sense to define the class Employee as a child (derived) class of the \n",
    "# Person class, that becomes the base  (super) class. This will save a lot of code rewriting.\n",
    "# Employee adds a few attributes and methods. More could be added here of course ...\n",
    "#\n",
    "class Employee(Person):\n",
    "\n",
    "    def __init__(self, first, last, age=None, staff_num=None, position=None, since=None):\n",
    "        Person.__init__(self, first, last, age)\n",
    "        self.staff_number = staff_num\n",
    "        self.position = position\n",
    "        self.since = since\n",
    "\n",
    "    def get_employee(self):\n",
    "        return [self.name(), self.staff_number, self.get_age(), self.position, self.since]\n",
    "    \n",
    "    def set_education(self, degrees):\n",
    "        self.bachelor = degrees['bachelor']\n",
    "        self.master = degrees['master']\n",
    "        self.doctorate = degrees['doctorate']\n",
    "    \n",
    "    def get_education(self):\n",
    "        return 'Bachelor: {}, Master: {}, Doctorate: {}'.format(self.bachelor, \n",
    "                                                                self.master, self.doctorate)\n",
    "\n",
    "y = Employee(\"Homer\", \"Simpson\", 40, \"1007\", 'troublemaker')\n",
    "y.set_education({'bachelor': 'drinkology', 'master':'sofalogy', 'doctorate':'still enrolled'})\n",
    "print(y.get_employee())\n",
    "print(y.get_education())"
   ]
  }
 ],
 "metadata": {
  "kernelspec": {
   "display_name": "Python 3",
   "language": "python",
   "name": "python3"
  },
  "language_info": {
   "codemirror_mode": {
    "name": "ipython",
    "version": 3
   },
   "file_extension": ".py",
   "mimetype": "text/x-python",
   "name": "python",
   "nbconvert_exporter": "python",
   "pygments_lexer": "ipython3",
   "version": "3.7.2"
  }
 },
 "nbformat": 4,
 "nbformat_minor": 2
}
