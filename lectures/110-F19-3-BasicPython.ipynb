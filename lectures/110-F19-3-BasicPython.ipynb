{
 "cells": [
  {
   "cell_type": "markdown",
   "metadata": {},
   "source": [
    "L3, 15-110 CMU-Q, Fall'19, G. Di Caro\n",
    "***\n",
    "\n",
    "**Very Basic Python & Tools:**\n",
    "\n",
    "- Notebooks, Anaconda, Spyder\n",
    "- Scalar type literal objects\n",
    "- Numeric types\n",
    "- Operators for numeric types\n",
    "- Python as calculator!\n",
    "***"
   ]
  },
  {
   "cell_type": "markdown",
   "metadata": {},
   "source": [
    "***\n",
    "The [**Jupyter Notebook**](https://jupyter.org/) is an open-source web application that allows to create and share documents that can contain:\n",
    "\n",
    "- live, pretty-printed **python code** \n",
    "- **visualizations** (e.g, images)\n",
    "- **formatted text** \n",
    "- **equations.**\n",
    "\n",
    "[Link to documentation about Jupiter Notebooks](https://jupyter-notebook.readthedocs.io/en/stable/examples/Notebook/What%20is%20the%20Jupyter%20Notebook.html)\n",
    "\n",
    "[Notebook basics](https://jupyter-notebook.readthedocs.io/en/stable/examples/Notebook/Notebook%20Basics.html)\n",
    "\n",
    "[Gallery of nice notebook examples](https://github.com/jupyter/jupyter/wiki/A-gallery-of-interesting-Jupyter-Notebooks)\n",
    "\n",
    "[For advanced users: tricks and shell commands in notebooks](https://blog.dominodatalab.com/lesser-known-ways-of-using-notebooks/)\n",
    "\n",
    "***"
   ]
  },
  {
   "cell_type": "markdown",
   "metadata": {},
   "source": [
    "A Jupyter Notebook is organized in ***cells***, where code, text, images, or equations can be written.\n",
    "\n",
    "When a cell is executed with `Run` or `Shift-Enter`, its content is ***interpreted*** on the fly and the output is displayed. \n",
    "\n",
    "Each cell can be of one of the following four types, that can be selected from the menu in the toolbar:\n",
    "- **Code**\n",
    "- **Markdown**\n",
    "- Raw NBConvert\n",
    "- Heading\n",
    "\n",
    "We are only interested in the first two types. For instance this cell is of type `Markdown`, which is the type to use to produce formatted text. Instead, if `Code` is selected, the cell is meant to include Pyhton code that can be executed locally to the cell.\n",
    "***"
   ]
  },
  {
   "cell_type": "markdown",
   "metadata": {},
   "source": [
    "**Markdown** is a rather simple and flexible way to add formatting like headers, bold, bulleted lists, rulers, and so on to plain text.\n",
    "It is a markup language, such as HTML, but it's much simpler.\n",
    "\n",
    "Quick yet complete references to use Markdown:\n",
    "\n",
    "[A reference sheet](https://en.support.wordpress.com/markdown-quick-reference/)\n",
    "\n",
    "[Complete, nicely explained documentation](https://www.markdownguide.org/basic-syntax/)\n",
    "\n",
    "[Documentation about Markdown cells in Jupyter, including how to add equations](https://jupyter-notebook.readthedocs.io/en/stable/examples/Notebook/Working%20With%20Markdown%20Cells.html#)\n",
    "\n",
    "\n",
    "\n"
   ]
  },
  {
   "cell_type": "markdown",
   "metadata": {},
   "source": [
    "***\n",
    "#### <u>This is a simple example of use of Markdown:</u>\n",
    "\n",
    "*Lorenz's* [(Lorenz, 1963)](https://en.wikipedia.org/wiki/Lorenz_system) equations were the first example of a dynamical system showing <span style=\"color:red\">**deterministic chaos.**</span>\n",
    "\n",
    "The equations are the following:\n",
    "\n",
    "$\\begin{align}\n",
    "\\dot{x} & = \\sigma(y-x) \\\\\n",
    "\\dot{y} & = \\rho x - y - xz \\\\\n",
    "\\dot{z} & = -\\beta z + xy\n",
    "\\end{align}\n",
    "$\n",
    "\n",
    "The following choices for the values of the parameters $\\sigma, \\rho, \\beta$ results in the strange attractor dynamics shown in the figure below:\n",
    "- $\\sigma$ = 10 \n",
    "- $\\rho$ = 28 (Rayleigh number)\n",
    "- $\\beta$ = 8/3\n",
    "\n",
    "![Alt](lorenz.png \"Lorenz system\")\n",
    "\n",
    "The same figure is shown in here in a smaller size using `HTML` inside `Markdown`.\n",
    "\n",
    "<img src=\"lorenz.png\" alt=\"Lorenz system\"\n",
    "\ttitle=\"Lorenz system\" width=\"150\" height=\"100\" />"
   ]
  },
  {
   "cell_type": "markdown",
   "metadata": {},
   "source": [
    "The next cells is a relatively complex example of a `Code` cell that show how a piece of pyhton program can produce a **plot image** which is displayed inline as an output. "
   ]
  },
  {
   "cell_type": "code",
   "execution_count": 20,
   "metadata": {},
   "outputs": [
    {
     "data": {
      "image/png": "[encoded data removed]",
      "text/plain": [
       "<Figure size 504x360 with 1 Axes>"
      ]
     },
     "metadata": {
      "needs_background": "light"
     },
     "output_type": "display_data"
    }
   ],
   "source": [
    "import matplotlib.pyplot as plt\n",
    "import numpy as np\n",
    "import random\n",
    "\n",
    "gauss_distr = []\n",
    "generations = 5000\n",
    "mean = 0\n",
    "std_dev = 1.5\n",
    "for i in range(generations):\n",
    "    gauss_distr.append(random.gauss(mean, std_dev))\n",
    "\n",
    "plt.figure(figsize = (7,5))\n",
    "plt.title('Histogram representation for normally distributed random data')\n",
    "\n",
    "ylabel = '$G({}, {})$'.format(mean, std_dev)\n",
    "plt.ylabel(ylabel)\n",
    "    \n",
    "xlabel = '$x$'\n",
    "plt.xlabel(xlabel)\n",
    "\n",
    "nbins = 20\n",
    "plt.hist(gauss_distr, nbins, density=True, color='red')\n",
    "plt.show()"
   ]
  },
  {
   "cell_type": "markdown",
   "metadata": {},
   "source": [
    "***\n",
    "The next cells are mostly `Code` cells that show simple examples introducing Python programming.\n",
    "***"
   ]
  },
  {
   "cell_type": "markdown",
   "metadata": {},
   "source": [
    "***\n",
    "### Code, comment, and empty/blank lines in Pyhton\n",
    "\n",
    "A piece of pyhton code typical include **multiple lines,** where each line is potentially a command for the interpreter:\n",
    "\n",
    "```pyhton\n",
    "x = 1\n",
    "y = x + 1\n",
    "print(x + y)\n",
    "```\n",
    "In the above example, the code consists of three lines, where each line includes a command.\n",
    "\n",
    "```\n",
    "x = 1\n",
    "\n",
    "y = x + 1\n",
    "\n",
    "# let's make the sum and print it out\n",
    "print(x + y)\n",
    "```\n",
    "The python lines above achieve the same result as the previous code but also features **blank lines** and a line that starts with the `#` character, which denotes the beginning of a **comment line.**\n",
    "\n",
    "Comment and blank lines can be placed anywhere in the code, the interpreter will ignore them.\n"
   ]
  },
  {
   "cell_type": "markdown",
   "metadata": {},
   "source": [
    "***\n",
    "### Adding spaces (to improve readability)\n",
    "\n",
    "An expression can be written with or without extra spaces:\n",
    "\n",
    "* `(1+3+6.5)`\n",
    "\n",
    "\n",
    "* `(1 + 3 + 6.5)`\n",
    "\n",
    "Both writing are *syntactically correct* and will be correctly processed by the python interpreter.\n",
    "\n",
    "Which one is more readable? In general, **extra spaces <u>should/must</u> be used to improve code readability**\n",
    "***"
   ]
  },
  {
   "cell_type": "code",
   "execution_count": 42,
   "metadata": {},
   "outputs": [
    {
     "data": {
      "text/plain": [
       "4"
      ]
     },
     "execution_count": 42,
     "metadata": {},
     "output_type": "execute_result"
    }
   ],
   "source": [
    "# this line is an inline comment in a python code\n",
    "# A line starting with # is a comment line, ignored by the interpreter\n",
    "\n",
    "# introducing white lines and extra spaces for readability is (usually) ok! \n",
    "\n",
    "1 + 3"
   ]
  },
  {
   "cell_type": "markdown",
   "metadata": {},
   "source": [
    "The above **command** `1+3` forms an **expression**, which is evaluated to 4 by the python interpreter when the cell is executed, and  the result is shown in the \n",
    "<span style=\"color:red\">Out[ ]: 4</span> cell.\n",
    "\n",
    "`1` and `3` are two **objects** with the following properties:\n",
    "\n",
    "- they are <u>numeric</u> objects (they are *natural numbers*)\n",
    "\n",
    "\n",
    "- they are <u>literal</u> objects (they are just *values*)\n",
    "\n",
    "\n",
    "- they are <u>scalar</u> objects (they are *indivisible!*)\n",
    "\n",
    "\n",
    "- they are of <u>int</u> (integer) **type** \n",
    "\n",
    "`+` is an **operator**, performing the addition between two numbers"
   ]
  },
  {
   "cell_type": "code",
   "execution_count": 17,
   "metadata": {},
   "outputs": [
    {
     "data": {
      "text/plain": [
       "9"
      ]
     },
     "execution_count": 17,
     "metadata": {},
     "output_type": "execute_result"
    }
   ],
   "source": [
    "# spacing between the operands (4 and 5 in the example) doesn't matter\n",
    "4  + 5"
   ]
  },
  {
   "cell_type": "markdown",
   "metadata": {},
   "source": [
    "We can sum up an arbitrary number of operands, and they can be of different **type**"
   ]
  },
  {
   "cell_type": "code",
   "execution_count": 18,
   "metadata": {},
   "outputs": [
    {
     "data": {
      "text/plain": [
       "8.6"
      ]
     },
     "execution_count": 18,
     "metadata": {},
     "output_type": "execute_result"
    }
   ],
   "source": [
    "4.5 + 3.1 + 1"
   ]
  },
  {
   "cell_type": "markdown",
   "metadata": {},
   "source": [
    "### How many different object types are there?"
   ]
  },
  {
   "cell_type": "markdown",
   "metadata": {},
   "source": [
    "***\n",
    "<span style=\"color:red; font-size:120%\"><u>Scalar type literal objects:</u></span>\n",
    "    \n",
    "* `int`:  **Integer** relative numbers ($\\mathbb{Z}$) \n",
    "\n",
    "\n",
    "* `float`: **Real** numbers (ℝ) \n",
    "\n",
    "\n",
    "* `bool`: **Boolean** (logical) values \n",
    "\n",
    "\n",
    "\n",
    "* `complex`: **Complex** numbers (ℂ)\n",
    "\n",
    "\n",
    "\n",
    "* `None`: Type with a single value, `None`\n",
    "***"
   ]
  },
  {
   "cell_type": "code",
   "execution_count": 24,
   "metadata": {},
   "outputs": [
    {
     "data": {
      "text/plain": [
       "2"
      ]
     },
     "execution_count": 24,
     "metadata": {},
     "output_type": "execute_result"
    }
   ],
   "source": [
    "# integer literal \n",
    "2"
   ]
  },
  {
   "cell_type": "code",
   "execution_count": 25,
   "metadata": {},
   "outputs": [
    {
     "data": {
      "text/plain": [
       "1256"
      ]
     },
     "execution_count": 25,
     "metadata": {},
     "output_type": "execute_result"
    }
   ],
   "source": [
    "# another integer literal\n",
    "1256"
   ]
  },
  {
   "cell_type": "code",
   "execution_count": 26,
   "metadata": {},
   "outputs": [
    {
     "data": {
      "text/plain": [
       "3.5"
      ]
     },
     "execution_count": 26,
     "metadata": {},
     "output_type": "execute_result"
    }
   ],
   "source": [
    "# a float literal (a real number)\n",
    "3.5"
   ]
  },
  {
   "cell_type": "code",
   "execution_count": 28,
   "metadata": {},
   "outputs": [
    {
     "data": {
      "text/plain": [
       "0.5"
      ]
     },
     "execution_count": 28,
     "metadata": {},
     "output_type": "execute_result"
    }
   ],
   "source": [
    "# another float literal\n",
    "0.5"
   ]
  },
  {
   "cell_type": "code",
   "execution_count": 27,
   "metadata": {},
   "outputs": [
    {
     "data": {
      "text/plain": [
       "-0.5"
      ]
     },
     "execution_count": 27,
     "metadata": {},
     "output_type": "execute_result"
    }
   ],
   "source": [
    "# numeric literals can be Positive or Negative\n",
    "-0.5"
   ]
  },
  {
   "cell_type": "markdown",
   "metadata": {},
   "source": [
    "***\n",
    "<span style=\"color:red; font-size:120%\"><u>Non-Scalar type literal objects:</u></span>\n",
    "    \n",
    "* `str`:  **String of characters** (text not with a numeric interpretation) \n",
    "\n",
    "\n",
    "* `tuple`: \n",
    "\n",
    "\n",
    "* `list`: \n",
    "\n",
    "\n",
    "\n",
    "* `set`: \n",
    "\n",
    "\n",
    "* `dict`: \n",
    "\n",
    "\n",
    "* `...`\n",
    "***"
   ]
  },
  {
   "cell_type": "code",
   "execution_count": 45,
   "metadata": {},
   "outputs": [
    {
     "data": {
      "text/plain": [
       "'This is a non-scalar type, a string more precisely'"
      ]
     },
     "execution_count": 45,
     "metadata": {},
     "output_type": "execute_result"
    }
   ],
   "source": [
    "\"This is a non-scalar type, a string more precisely\""
   ]
  },
  {
   "cell_type": "code",
   "execution_count": 44,
   "metadata": {},
   "outputs": [
    {
     "data": {
      "text/plain": [
       "\"I am a non-scalar type: I'm composed of 54 characters!\""
      ]
     },
     "execution_count": 44,
     "metadata": {},
     "output_type": "execute_result"
    }
   ],
   "source": [
    "\"I am a non-scalar type: I'm composed of 54 characters!\""
   ]
  },
  {
   "attachments": {},
   "cell_type": "markdown",
   "metadata": {},
   "source": [
    "***\n",
    "### Display the value of an object: `print()` *function*\n",
    "\n",
    "\n",
    "We can display / output the value of any object / expression using the `print(args)` <u>function</u>\n",
    "\n",
    "We will come back on this, but think of a **function** as a way to refer by using a *name* (an *identifier)* to a <u>procedure,</u> a *series of actions,* to be executed whenever the function is called in the program.\n",
    "\n",
    "<img src=\"function.png?1\" alt=\"function\"\n",
    "\ttitle=\"\" width=\"350\"  />\n",
    "\n",
    "* Functions can require or not **input parameters** (arguments): \n",
    "\n",
    "  - `print(4.5)`\n",
    "  - `square_root(4)`\n",
    "  - `print(\"Hello, this is a number:\", 2)`\n",
    "  \n",
    " - `take_off()`\n",
    " - `make_one_step()`\n",
    "\n",
    "\n",
    "* Functions can **return** or not a value (of a specified type): \n",
    "\n",
    "  - `x = square_root(4)`\n",
    "  - `hypotenuse = Pythagoras(3, 4)`\n",
    "\n",
    "\n",
    "***"
   ]
  },
  {
   "cell_type": "markdown",
   "metadata": {},
   "source": [
    "Let's use the `print()` function to display the value of objects! \n",
    "\n",
    "* The `print(args)` function always needs **at least ONE  input argument**\n",
    "  - `print(4)`, `print(3.2)`, `print(\"Hello!\")`\n",
    "  \n",
    "  \n",
    "* **Multiple arguments** can be passed separating the arguments by commas `,`\n",
    "  - `print(4, 2)`, `print(3.2, 1)`, `print(\"Hello!\", 0, 1, 2, '...', 10)`\n",
    " \n",
    " \n",
    "* The function **doesn't return anything useful,** it always returns a `None` literal\n"
   ]
  },
  {
   "cell_type": "code",
   "execution_count": 30,
   "metadata": {},
   "outputs": [
    {
     "name": "stdout",
     "output_type": "stream",
     "text": [
      "Hello! These are numbers: 1 2 5 3.5\n"
     ]
    }
   ],
   "source": [
    "print(\"Hello! These are numbers:\", 1, 2, 5, 3.5)"
   ]
  },
  {
   "cell_type": "code",
   "execution_count": 31,
   "metadata": {},
   "outputs": [
    {
     "data": {
      "text/plain": [
       "True"
      ]
     },
     "execution_count": 31,
     "metadata": {},
     "output_type": "execute_result"
    }
   ],
   "source": [
    "# a literal of boolean type\n",
    "True"
   ]
  },
  {
   "cell_type": "code",
   "execution_count": 33,
   "metadata": {},
   "outputs": [
    {
     "name": "stdout",
     "output_type": "stream",
     "text": [
      "This is true: True\n",
      "This is false: False\n"
     ]
    }
   ],
   "source": [
    "print('This is true:', True)\n",
    "print('This is false:', False)"
   ]
  },
  {
   "cell_type": "code",
   "execution_count": 35,
   "metadata": {},
   "outputs": [
    {
     "name": "stdout",
     "output_type": "stream",
     "text": [
      "This function should return None, let's check it out!\n",
      "None\n"
     ]
    }
   ],
   "source": [
    "# Let's print the return value of a print() function!\n",
    "print( print(\"This function should return None, let's check it out!\"))\n"
   ]
  },
  {
   "cell_type": "markdown",
   "metadata": {},
   "source": [
    "***\n",
    "### Beware: Python is CASE-SENSITIVE!\n",
    "\n",
    "`Print()` is *not* the same as `print()`\n",
    "\n",
    "`true` is *not* the same as `True`\n",
    "\n",
    "`tYpe()` is *not* the same as `type()`\n",
    "\n",
    "<br/>\n",
    "<span style=\"color:red; font-size: 120%\">\n",
    "Every single object MUST be written in a unique way, to be properly recognized by the python interpreter!\n",
    "</span>\n",
    "\n",
    "***"
   ]
  },
  {
   "cell_type": "markdown",
   "metadata": {},
   "source": [
    "***\n",
    "### Function `type()` to get the type of an object\n",
    "\n",
    "We said that every object has a type, can we automatically get or check the type of an object inside a program? Yes, with the `type(obj)` function!\n",
    "\n",
    "The `type(obj)` function *returns* the type associate to the object `obj` passed as an argument\n",
    "***"
   ]
  },
  {
   "cell_type": "code",
   "execution_count": 36,
   "metadata": {},
   "outputs": [
    {
     "data": {
      "text/plain": [
       "float"
      ]
     },
     "execution_count": 36,
     "metadata": {},
     "output_type": "execute_result"
    }
   ],
   "source": [
    "type(3.4)"
   ]
  },
  {
   "cell_type": "code",
   "execution_count": 37,
   "metadata": {},
   "outputs": [
    {
     "data": {
      "text/plain": [
       "bool"
      ]
     },
     "execution_count": 37,
     "metadata": {},
     "output_type": "execute_result"
    }
   ],
   "source": [
    "type(True)"
   ]
  },
  {
   "cell_type": "code",
   "execution_count": 38,
   "metadata": {},
   "outputs": [
    {
     "data": {
      "text/plain": [
       "int"
      ]
     },
     "execution_count": 38,
     "metadata": {},
     "output_type": "execute_result"
    }
   ],
   "source": [
    "type(2)"
   ]
  },
  {
   "cell_type": "code",
   "execution_count": 39,
   "metadata": {},
   "outputs": [
    {
     "data": {
      "text/plain": [
       "str"
      ]
     },
     "execution_count": 39,
     "metadata": {},
     "output_type": "execute_result"
    }
   ],
   "source": [
    "type(\"Hello\")"
   ]
  },
  {
   "cell_type": "code",
   "execution_count": 40,
   "metadata": {},
   "outputs": [
    {
     "name": "stdout",
     "output_type": "stream",
     "text": [
      "The type of 2 is: <class 'int'>\n",
      "The type of 1.5 is: <class 'float'>\n",
      "The type of False is: <class 'bool'>\n",
      "The type of 'hello' is: <class 'str'>\n"
     ]
    }
   ],
   "source": [
    "print(\"The type of 2 is:\", type(2))\n",
    "print(\"The type of 1.5 is:\", type(1.5))\n",
    "print(\"The type of False is:\", type(False))\n",
    "print(\"The type of 'hello' is:\", type('hello'))\n",
    "      "
   ]
  },
  {
   "cell_type": "markdown",
   "metadata": {},
   "source": [
    "***\n",
    "### Operators (for numeric types)\n",
    "\n",
    "OK, we have literal objects, numeric, logical, textual, we can display them and check their type ... not so exciting so far! \n",
    "\n",
    "Let's introduce **operators** to start doing something with these literal objects.\n",
    "\n",
    "<u>Focus:</u> **Numeric object types and operators for numeric types**"
   ]
  },
  {
   "cell_type": "markdown",
   "metadata": {},
   "source": [
    "***\n",
    "\n",
    "Let `i` and `j` be two <u>numeric literals</u>: either `int` or `float`, not need to be of the same type. They are termed *operands*.\n",
    "\n",
    "\n",
    "Let's start introducing  *common* operators for numeric handling:\n",
    "\n",
    "* `+` **Addition**\n",
    "\n",
    "\n",
    "* `-` **Subtraction**\n",
    "\n",
    "\n",
    "* `*` **Multiplication**\n",
    "\n",
    "\n",
    "* `/` **Division**"
   ]
  },
  {
   "cell_type": "markdown",
   "metadata": {},
   "source": [
    "***\n",
    "**Sum:** `i+j`\n",
    "\n",
    "<u>Type</u> of expression: `int` if both integers, `float` otherwise.\n",
    "\n",
    "*Multiple operands* can be used."
   ]
  },
  {
   "cell_type": "code",
   "execution_count": 47,
   "metadata": {},
   "outputs": [
    {
     "name": "stdout",
     "output_type": "stream",
     "text": [
      "5\n",
      "10 2.5\n",
      "<class 'int'> <class 'float'>\n"
     ]
    }
   ],
   "source": [
    "print(2 + 3)\n",
    "print(2 + 3 + 5, 1 + 1.5)\n",
    "print(type(2+3), type(1 + 1.5))"
   ]
  },
  {
   "cell_type": "markdown",
   "metadata": {},
   "source": [
    "***\n",
    "### Parentheses can be used to group operands\n",
    "\n",
    "You can use parentheses to group operands (and control priorities) in the same way you've learned to do in your basic algebra courses at high school!\n",
    "\n",
    "* `1 + 2 + 3 + 5`\n",
    "\n",
    "\n",
    "* `(1+2) + (3+5)`\n",
    "\n",
    "\n",
    "* `(-1) + (1)`\n",
    "\n",
    "\n",
    "* `(1+2) * (3+5)`\n"
   ]
  },
  {
   "cell_type": "markdown",
   "metadata": {},
   "source": [
    "***\n",
    "**Difference:** `i-j`\n",
    "\n",
    "<u>Type</u> of expression: `int` if both integers, `float` otherwise.\n",
    "\n",
    "*Multiple operands* can be used."
   ]
  },
  {
   "cell_type": "code",
   "execution_count": 56,
   "metadata": {},
   "outputs": [
    {
     "name": "stdout",
     "output_type": "stream",
     "text": [
      "4\n",
      "-2.0\n",
      "-11\n"
     ]
    }
   ],
   "source": [
    "print(3-2 + (4-1))\n",
    "type(3-2 + (4-1))\n",
    "\n",
    "print((-1)-1.0)\n",
    "type((-1)-1.0)\n",
    "\n",
    "print(2-3-10-5+5)"
   ]
  },
  {
   "cell_type": "code",
   "execution_count": null,
   "metadata": {},
   "outputs": [],
   "source": [
    "***\n",
    "**Product:** `i*j`\n",
    "\n",
    "<u>Type</u> of expression: `int` if both integers, `float` otherwise.\n",
    "\n",
    "*Multiple operands* can be used."
   ]
  },
  {
   "cell_type": "code",
   "execution_count": 57,
   "metadata": {},
   "outputs": [
    {
     "name": "stdout",
     "output_type": "stream",
     "text": [
      "6\n",
      "24\n",
      "<class 'int'>\n"
     ]
    }
   ],
   "source": [
    "print(2 * 3)\n",
    "print(2 * 3 * 4)\n",
    "print(type(2 * 3))"
   ]
  },
  {
   "cell_type": "code",
   "execution_count": 58,
   "metadata": {},
   "outputs": [
    {
     "name": "stdout",
     "output_type": "stream",
     "text": [
      "102\n",
      "102\n",
      "<class 'int'>\n"
     ]
    }
   ],
   "source": [
    "print(10 * 10 + 2)\n",
    "print(2 + 10 * 10)\n",
    "\n",
    "print(type (10 * 10 + 2))"
   ]
  },
  {
   "cell_type": "code",
   "execution_count": 60,
   "metadata": {},
   "outputs": [
    {
     "name": "stdout",
     "output_type": "stream",
     "text": [
      "25.0\n"
     ]
    },
    {
     "data": {
      "text/plain": [
       "float"
      ]
     },
     "execution_count": 60,
     "metadata": {},
     "output_type": "execute_result"
    }
   ],
   "source": [
    "print(10 * 2.5)\n",
    "type(10 * 2.5)"
   ]
  },
  {
   "cell_type": "markdown",
   "metadata": {},
   "source": [
    "***\n",
    "**Division:** `i/j` returns the *real-valued* result of the division, \n",
    "\n",
    "<u>Type</u> of expression:  `float`.\n",
    "\n",
    "*Two operands*."
   ]
  },
  {
   "cell_type": "code",
   "execution_count": 61,
   "metadata": {},
   "outputs": [
    {
     "name": "stdout",
     "output_type": "stream",
     "text": [
      "2.0\n",
      "<class 'float'>\n"
     ]
    }
   ],
   "source": [
    "print( 10 / 5 )\n",
    "print(type(10/5))"
   ]
  },
  {
   "cell_type": "code",
   "execution_count": 62,
   "metadata": {},
   "outputs": [
    {
     "name": "stdout",
     "output_type": "stream",
     "text": [
      "2.25\n",
      "<class 'float'>\n"
     ]
    }
   ],
   "source": [
    "print( 4.5 / 2 )\n",
    "print(type(4.5/2))"
   ]
  },
  {
   "cell_type": "code",
   "execution_count": 64,
   "metadata": {},
   "outputs": [
    {
     "name": "stdout",
     "output_type": "stream",
     "text": [
      "-2.25\n",
      "0.6666666666666666\n"
     ]
    }
   ],
   "source": [
    "print( -4.5 / 2 )\n",
    "print(-2/-3)"
   ]
  },
  {
   "cell_type": "code",
   "execution_count": 63,
   "metadata": {
    "scrolled": true
   },
   "outputs": [
    {
     "ename": "ZeroDivisionError",
     "evalue": "division by zero",
     "output_type": "error",
     "traceback": [
      "\u001b[0;31m---------------------------------------------------------------------------\u001b[0m",
      "\u001b[0;31mZeroDivisionError\u001b[0m                         Traceback (most recent call last)",
      "\u001b[0;32m<ipython-input-63-7e294f99c5d4>\u001b[0m in \u001b[0;36m<module>\u001b[0;34m()\u001b[0m\n\u001b[0;32m----> 1\u001b[0;31m \u001b[0mprint\u001b[0m\u001b[0;34m(\u001b[0m \u001b[0;36m1\u001b[0m\u001b[0;34m/\u001b[0m\u001b[0;36m0\u001b[0m \u001b[0;34m)\u001b[0m\u001b[0;34m\u001b[0m\u001b[0;34m\u001b[0m\u001b[0m\n\u001b[0m",
      "\u001b[0;31mZeroDivisionError\u001b[0m: division by zero"
     ]
    }
   ],
   "source": [
    "print( 1/0 )"
   ]
  },
  {
   "cell_type": "markdown",
   "metadata": {},
   "source": [
    "***\n",
    "\n",
    "**Integer Division:** `i//j` returns the integer quotient and ignores the real remainder:\n",
    " \n",
    "* General formula to *understand* division: \n",
    "  $ i \\div j = j \\cdot n + r$\n",
    "\n",
    "  where $n$ is an integer number, and $𝑟$ is a real number<br/>\n",
    "  \n",
    " \n",
    "   - <u>The integer division operator `//` returns $n$ </u>\n",
    "   \n",
    "   \n",
    "   - <u>The real division operator `/` returns</u>  $j \\cdot n + r$ \n",
    "   \n",
    "   \n",
    "   - <u>The remainder division (modulus) operator `%` returns $r$ </u>\n",
    "    \n",
    "<u>Type</u> of expression:  `int` if both integers, `float` otherwise.\n",
    "    \n",
    "*Two operands*."
   ]
  },
  {
   "attachments": {},
   "cell_type": "markdown",
   "metadata": {},
   "source": [
    "***\n",
    "\n",
    "**Modulus (Remainder Division):** `i%j` returns the \n",
    "the remainder from the division of the first argument by the second.\n",
    " \n",
    "* Given the general formula, \n",
    "  $ i \\div j = j \\cdot n + r$\n",
    "  \n",
    "  `%` returns $r$\n",
    "\n",
    "<u>Type</u> of expression: `float`.\n",
    "    \n",
    "*Two operands*."
   ]
  },
  {
   "cell_type": "markdown",
   "metadata": {},
   "source": [
    "***\n",
    "\n",
    "**Power raising:** `i**j` returns the $i^j$\n",
    "\n",
    "\n",
    "<u>Type</u> of expression: `int` if both integers, `float` otherwise.\n",
    "    \n",
    "*Two operands*."
   ]
  },
  {
   "cell_type": "markdown",
   "metadata": {},
   "source": [
    "***\n",
    "### In practice we can use Python as an interactive calculator! \n",
    "\n",
    "<img src=\"casio.png?1\" alt=\"calculator\"\n",
    "\ttitle=\"\" width=\"250\"  />\n"
   ]
  },
  {
   "cell_type": "markdown",
   "metadata": {},
   "source": [
    "***\n",
    "\n",
    "Calculations can be grouped using `()` parentheses.\n",
    "\n",
    "**Operator priorities:** `/`, `*`, `+`, `-`"
   ]
  },
  {
   "cell_type": "code",
   "execution_count": null,
   "metadata": {},
   "outputs": [],
   "source": []
  }
 ],
 "metadata": {
  "kernelspec": {
   "display_name": "Python 3",
   "language": "python",
   "name": "python3"
  },
  "language_info": {
   "codemirror_mode": {
    "name": "ipython",
    "version": 3
   },
   "file_extension": ".py",
   "mimetype": "text/x-python",
   "name": "python",
   "nbconvert_exporter": "python",
   "pygments_lexer": "ipython3",
   "version": "3.7.2"
  }
 },
 "nbformat": 4,
 "nbformat_minor": 2
}
