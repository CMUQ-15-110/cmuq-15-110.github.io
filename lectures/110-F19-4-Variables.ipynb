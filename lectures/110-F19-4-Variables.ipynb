{
 "cells": [
  {
   "cell_type": "markdown",
   "metadata": {},
   "source": [
    "L4, 15-110 CMU-Q, Fall'19, G. Di Caro\n",
    "***\n",
    "\n",
    "**Variables**\n",
    "\n",
    "***"
   ]
  },
  {
   "cell_type": "code",
   "execution_count": 20,
   "metadata": {},
   "outputs": [
    {
     "name": "stdout",
     "output_type": "stream",
     "text": [
      "Temperature is 35.3 degrees\n",
      "This statement is: False\n"
     ]
    }
   ],
   "source": [
    "2+3\n",
    "5.5 / 1.5\n",
    "print('Temperature is', 35.3, 'degrees') \n",
    "print('This statement is:', False) "
   ]
  },
  {
   "cell_type": "code",
   "execution_count": 21,
   "metadata": {},
   "outputs": [
    {
     "data": {
      "text/plain": [
       "5.5"
      ]
     },
     "execution_count": 21,
     "metadata": {},
     "output_type": "execute_result"
    }
   ],
   "source": [
    "((2+3) * (10 // 5) + (5 % 2)) / 2"
   ]
  },
  {
   "cell_type": "code",
   "execution_count": 10,
   "metadata": {},
   "outputs": [
    {
     "name": "stdout",
     "output_type": "stream",
     "text": [
      "2 <class 'int'> 4505162896\n",
      "Second time: 4505162896\n",
      "True <class 'bool'> 4504759568\n",
      "Id b: 4541658648\n",
      "6.5 3.5 <class 'float'> <class 'float'> 4541658744\n",
      "Second/thrid time: 4541658744\n"
     ]
    }
   ],
   "source": [
    "a = 2\n",
    "print(a, type(a), id(a))\n",
    "print(\"Second time:\", id(a))\n",
    "x = True\n",
    "print(x, type(x), id(x))\n",
    "b = 3.5\n",
    "print(\"Id b:\", id(b))\n",
    "a = b + 3\n",
    "print(a, b, type(a), type(b), id(a))\n",
    "print(\"Second/thrid time:\", id(a))"
   ]
  },
  {
   "cell_type": "code",
   "execution_count": 11,
   "metadata": {
    "scrolled": true
   },
   "outputs": [
    {
     "name": "stdout",
     "output_type": "stream",
     "text": [
      "3.5 3.5 4541658648 4541658648\n"
     ]
    }
   ],
   "source": [
    "b = a\n",
    "a = b\n",
    "print(a, b, id(a), id(b))"
   ]
  },
  {
   "cell_type": "code",
   "execution_count": 25,
   "metadata": {},
   "outputs": [],
   "source": [
    "x = 2\n",
    "y = 2\n",
    "x = 3"
   ]
  },
  {
   "cell_type": "code",
   "execution_count": 26,
   "metadata": {},
   "outputs": [
    {
     "name": "stdout",
     "output_type": "stream",
     "text": [
      "4505162928 4505162896\n"
     ]
    }
   ],
   "source": [
    "print(id(x), id(y))"
   ]
  },
  {
   "cell_type": "code",
   "execution_count": 35,
   "metadata": {},
   "outputs": [
    {
     "name": "stdout",
     "output_type": "stream",
     "text": [
      "4505162896 4505162896\n"
     ]
    }
   ],
   "source": [
    "x = 2\n",
    "y = 2\n",
    "print(id(x), id(y)) \n",
    "# they MIGHT be the same, since the interpreter may optimize the use of memory\n",
    "# but this is not necessarily happening \n",
    "#(and in fact it is not happening in the case of the two floats in the next cell)"
   ]
  },
  {
   "cell_type": "code",
   "execution_count": 37,
   "metadata": {},
   "outputs": [
    {
     "name": "stdout",
     "output_type": "stream",
     "text": [
      "4541659176 4541659200\n"
     ]
    }
   ],
   "source": [
    "z = 123.5\n",
    "g = 123.5\n",
    "print(id(z), id(g))"
   ]
  },
  {
   "cell_type": "markdown",
   "metadata": {},
   "source": [
    "***\n",
    "The example below shows how code can be messy when good style rule aren't followed"
   ]
  },
  {
   "cell_type": "code",
   "execution_count": 35,
   "metadata": {},
   "outputs": [
    {
     "name": "stdout",
     "output_type": "stream",
     "text": [
      "This is a mess 16384.0 16384 666\n"
     ]
    }
   ],
   "source": [
    "a=2+(3*4)\n",
    "b=2**a\n",
    "c=float(b)\n",
    "d=\"This is a mess\"\n",
    "e=10000//(a+1)\n",
    "print(d,c,b,e)"
   ]
  },
  {
   "cell_type": "code",
   "execution_count": 34,
   "metadata": {},
   "outputs": [
    {
     "name": "stdout",
     "output_type": "stream",
     "text": [
      "Income analysis \n",
      " Income to power (real): 16384.0 \n",
      " Income to power (int): 16384 \n",
      " Integer fit of income into debt: 666\n"
     ]
    }
   ],
   "source": [
    "income = 2 + (3*4)\n",
    "power_income = 2**a\n",
    "real_power_income = float(b)\n",
    "msg = \"Income analysis\"\n",
    "fit_income_in_debt = 10000 // (a+1)\n",
    "print(msg, '\\n', \"Income to power (real):\", real_power_income, '\\n',\n",
    "      \"Income to power (int):\", power_income, '\\n',\n",
    "      \"Integer fit of income into debt:\", fit_income_in_debt)"
   ]
  },
  {
   "cell_type": "code",
   "execution_count": null,
   "metadata": {},
   "outputs": [],
   "source": []
  }
 ],
 "metadata": {
  "kernelspec": {
   "display_name": "Python 3",
   "language": "python",
   "name": "python3"
  },
  "language_info": {
   "codemirror_mode": {
    "name": "ipython",
    "version": 3
   },
   "file_extension": ".py",
   "mimetype": "text/x-python",
   "name": "python",
   "nbconvert_exporter": "python",
   "pygments_lexer": "ipython3",
   "version": "3.7.1"
  }
 },
 "nbformat": 4,
 "nbformat_minor": 2
}
