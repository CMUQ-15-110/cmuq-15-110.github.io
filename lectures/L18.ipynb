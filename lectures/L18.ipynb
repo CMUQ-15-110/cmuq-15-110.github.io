{
 "cells": [
  {
   "cell_type": "code",
   "execution_count": 1,
   "metadata": {},
   "outputs": [],
   "source": [
    "# So far we have only read CSV files, let's start writing CSV files to store and share data\n",
    "import csv"
   ]
  },
  {
   "cell_type": "code",
   "execution_count": 49,
   "metadata": {},
   "outputs": [],
   "source": [
    "# Let's first define a simple helper function to inspect the content of a file\n",
    "#\n",
    "def display_file_content(file_path):\n",
    "    try:\n",
    "        f_check = open(file_path, mode='r')\n",
    "    except:\n",
    "        print('File', file_path, \"doesn't exist!\")\n",
    "    else:\n",
    "        for r in f_check:\n",
    "            print(r, end='')\n",
    "    finally:\n",
    "        f_check.close()"
   ]
  },
  {
   "cell_type": "code",
   "execution_count": 50,
   "metadata": {},
   "outputs": [
    {
     "name": "stdout",
     "output_type": "stream",
     "text": [
      "<class '_csv.writer'>\n"
     ]
    }
   ],
   "source": [
    "# Let's start by using the plain csv syntax\n",
    "# We want to create a file with a few records organized as a comma-separated csv\n",
    "#\n",
    "# At this aim, we need to open a new csv file for writing and define field names, delimiter,\n",
    "# if we want to write fields that include the delimiter character, we have to specify\n",
    "# how to quote fields that include the delimiter, and what is the quoting policy\n",
    "#\n",
    "file_path = 'csv/univ.csv'\n",
    "f_csv = open(file_path, mode='w+')\n",
    "\n",
    "csv_writer = csv.writer(f_csv, delimiter=',', quotechar='\"', quoting=csv.QUOTE_MINIMAL)\n",
    "\n",
    "print(type(csv_writer))\n",
    "# csv_writer is a writer object handle for csv files"
   ]
  },
  {
   "cell_type": "code",
   "execution_count": 44,
   "metadata": {},
   "outputs": [],
   "source": [
    "# The quotechar optional parameter tells the writer which character to use to \n",
    "# quote fields when writing. Whether quoting is used or not, however, is determined \n",
    "# by the quoting optional parameter:\n",
    "#\n",
    "# If quoting is set to csv.QUOTE_MINIMAL, then .writerow() will quote fields \n",
    "#    only if they contain the delimiter or the quotechar. This is the default case.\n",
    "# If quoting is set to csv.QUOTE_ALL, \n",
    "#   then .writerow() will quote all fields.\n",
    "# If quoting is set to csv.QUOTE_NONNUMERIC, \n",
    "#   then .writerow() will quote all fields containing text data and \n",
    "#   convert all numeric fields to the float data type.\n",
    "# If quoting is set to csv.QUOTE_NONE, then .writerow() will escape delimiters instead of \n",
    "#   quoting them. In this case, a value for the escapechar optional parameter must be defined.\n",
    "#"
   ]
  },
  {
   "cell_type": "code",
   "execution_count": 51,
   "metadata": {},
   "outputs": [
    {
     "data": {
      "text/plain": [
       "40"
      ]
     },
     "execution_count": 51,
     "metadata": {},
     "output_type": "execute_result"
    }
   ],
   "source": [
    "# Let's throw out some data (no need to use quoting for now)\n",
    "#\n",
    "name = 'John Smith'\n",
    "dept = 'Eng'\n",
    "since = 2004\n",
    "score = 4.72/7\n",
    "\n",
    "# Which are the fields here? name, dept, since, score\n",
    "#\n",
    "# How do we write the fields into a record? writerow(what_we_want_to_write)\n",
    "\n",
    "csv_writer.writerow([name, dept, since, score])"
   ]
  },
  {
   "cell_type": "code",
   "execution_count": 58,
   "metadata": {},
   "outputs": [],
   "source": [
    "# Files are \"streams\" (e.g., the standard output on the screen is a stream), and streams \n",
    "# might be \"buffered\": data written on the stream is not sent directly to the stream support,\n",
    "# instead, it is temporarily held in memory (a \"buffer\") until, at least, a certain amount \n",
    "# of data is written in the buffer. Whenthis happens, all the data in the memory buffer \n",
    "# is \"flushed\" to the stream and reaches the desired physical medium \n",
    "# (e.g., a file on a hard disk, or the screen)\n",
    "# Since here we are writing step by step small amount of data, and inspecting the file after \n",
    "# that and before closing the file, let's force the flushing of the file buffer. This ensures \n",
    "# that data will be written in the file following each writing operation.\n",
    "# Note the a close() operation automatically flushes the buffer.\n",
    "#\n",
    "f_csv.flush() "
   ]
  },
  {
   "cell_type": "code",
   "execution_count": 52,
   "metadata": {},
   "outputs": [
    {
     "name": "stdout",
     "output_type": "stream",
     "text": [
      "John Smith,Eng,2004,0.6742857142857143\n"
     ]
    }
   ],
   "source": [
    "# Let's check the file ...\n",
    "display_file_content(file_path)"
   ]
  },
  {
   "cell_type": "code",
   "execution_count": 56,
   "metadata": {},
   "outputs": [],
   "source": [
    "# Let's add another data record\n",
    "name = 'Ann White'\n",
    "dept = 'CS'\n",
    "since = 2012\n",
    "score = 3.81/7\n",
    "score = float('{:4.2f}'.format(score))\n",
    "\n",
    "csv_writer.writerow([name, dept, since, score])"
   ]
  },
  {
   "cell_type": "code",
   "execution_count": 59,
   "metadata": {},
   "outputs": [
    {
     "name": "stdout",
     "output_type": "stream",
     "text": [
      "John Smith,Eng,2004,0.6742857142857143\n",
      "Ann White,CS,2012,0.54\n",
      "Ann White,CS,2012,0.54\n",
      "Ann White,CS,2012,0.54\n"
     ]
    }
   ],
   "source": [
    "# Let's check the file again, flushing the stream first\n",
    "#\n",
    "f_csv.flush()\n",
    "display_file_content(file_path)"
   ]
  },
  {
   "cell_type": "code",
   "execution_count": 29,
   "metadata": {},
   "outputs": [],
   "source": [
    "# What if we already have data in \"tabular\" format?, such as a list of lists?\n",
    "# do we have to write them row by row, or can we just dump the data with one instruction?\n",
    "# writerows(tabular_data) does do job for us!\n",
    "#\n",
    "univ_employees = [ [1, 'John Smith', 'Eng', 2004, 4.72/7], [2, 'Ann White','CS', 2012, 3.81/7]]\n",
    "csv_writer.writerows(univ_employees)\n",
    "f_csv.close()"
   ]
  },
  {
   "cell_type": "code",
   "execution_count": 30,
   "metadata": {},
   "outputs": [],
   "source": [
    "# Our file dosn't include an header that specifies what the fields are about.\n",
    "# It's good practice to add it (for sharing and clarity purposes).\n",
    "# Let's reopen the file (checking for its existence first) and let's add the header.\n",
    "#"
   ]
  },
  {
   "cell_type": "code",
   "execution_count": 67,
   "metadata": {},
   "outputs": [],
   "source": [
    "try:\n",
    "    # We need to open the file for writing, preserving the contents, and be positioned at \n",
    "    # the beginning: r+ mode\n",
    "    f_csv = open(file_path, mode='r+')\n",
    "    \n",
    "except:\n",
    "    print('File ', file_path.split('/')[-1], 'does not exist!')\n",
    "else:\n",
    "    csv_writer = csv.writer(f_csv, delimiter=',')\n",
    "    #print(list(csv_data))  #if we'd like to see what's in the file so far\n",
    "    \n",
    "    header = ['name','dept','since','score']\n",
    "    csv_writer.writerow(header)\n",
    "finally:\n",
    "    f_csv.close()"
   ]
  },
  {
   "cell_type": "code",
   "execution_count": 68,
   "metadata": {},
   "outputs": [
    {
     "name": "stdout",
     "output_type": "stream",
     "text": [
      "name,dept,since,score\n",
      "742857142857143\n",
      "Ann White,CS,2012,0.54\n",
      "Ann White,CS,2012,0.54\n",
      "Ann White,CS,2012,0.54\n",
      "name,dept,since,score\n",
      "name,dept,since,score\n"
     ]
    }
   ],
   "source": [
    "# Let's check the file: \n",
    "display_file_content(file_path)\n",
    "\n",
    "# Something wrong has happened there: the first record \n",
    "# [John Smith,Eng,2004,0.6742857142857143] has been overwritten!\n",
    "# We can't really 'squeeze' new data into existing data."
   ]
  },
  {
   "cell_type": "code",
   "execution_count": 69,
   "metadata": {},
   "outputs": [],
   "source": [
    "# The header must be written first!\n",
    "# Or, we read the entire file, write the header, and then dump previous contents.\n",
    "# Let's do it!\n",
    "#\n",
    "try:\n",
    "    f_csv = open(file_path, mode='r+')\n",
    "except:\n",
    "    print('File ', file_path.split('/')[-1], \"does not exist, we can write the header\")\n",
    "    header = ['name','dept','since','score']\n",
    "    csv_writer = csv.writer(f_csv, delimiter=',')   \n",
    "    csv_writer.writerow(header)\n",
    "else:\n",
    "    # File does exist. We need both a csv writer and csv reader object in this case\n",
    "    csv_writer = csv.writer(f_csv, delimiter=',')\n",
    "    csv_reader = csv.reader(f_csv)\n",
    "    \n",
    "    # Let's read and save all data first\n",
    "    current_data = list(csv_reader)\n",
    "    \n",
    "    # After the previous read instruction, we are at the end of the file, \n",
    "    # let's go to the very beginning to add the header\n",
    "    f_csv.seek(0)\n",
    "    \n",
    "    # First, let's add the header\n",
    "    header = ['name','dept','since','score']\n",
    "    csv_writer.writerow(header)\n",
    "    \n",
    "    # Now, let's dump back all the data that was previously in the file\n",
    "    csv_writer.writerows(current_data)\n",
    "finally:\n",
    "    f_csv.close()"
   ]
  },
  {
   "cell_type": "code",
   "execution_count": 70,
   "metadata": {},
   "outputs": [
    {
     "name": "stdout",
     "output_type": "stream",
     "text": [
      "name,dept,since,score\n",
      "name,dept,since,score\n",
      "742857142857143\n",
      "Ann White,CS,2012,0.54\n",
      "Ann White,CS,2012,0.54\n",
      "Ann White,CS,2012,0.54\n",
      "name,dept,since,score\n",
      "name,dept,since,score\n"
     ]
    }
   ],
   "source": [
    "# Let's check the file: \n",
    "display_file_content(file_path)"
   ]
  },
  {
   "cell_type": "code",
   "execution_count": 71,
   "metadata": {},
   "outputs": [
    {
     "name": "stdout",
     "output_type": "stream",
     "text": [
      "n,a,m,e,\",\",d,e,p,t,\",\",s,i,n,c,e,\",\",s,c,o,r,e\n"
     ]
    }
   ],
   "source": [
    "# Why did we use a list to write our data?\n",
    "# Couldn't we just use a single string: 'name,dept,since,score'?\n",
    "#    \n",
    "f_csv = open(file_path, mode='w')\n",
    "csv_writer = csv.writer(f_csv, delimiter=',')\n",
    "header = 'name,dept,since,score'\n",
    "csv_writer.writerow(header)\n",
    "f_csv.close()\n",
    "\n",
    "display_file_content(file_path)\n",
    "#\n",
    "# ...what's going on there?? Individual characters get separated by commas,\n",
    "# and each field gets quotes using the standard quoting string \"\n",
    "# Okay, let's not mess up further with these things ..."
   ]
  },
  {
   "cell_type": "code",
   "execution_count": 72,
   "metadata": {},
   "outputs": [],
   "source": [
    "# Since we can read csv data into a dictionary, it is expected that \n",
    "# we can write it out from a dictionary as well\n",
    "\n",
    "# Let's create a simple dictionary list out of our data. Keys must be strings\n",
    "#\n",
    "employees_list = []\n",
    "employees_list.append({'name': 'John Smith', 'dept': 'Eng', 'since': 2004, 'score': 4.72/7})\n",
    "employees_list.append({'name': 'Ann White', 'dept': 'CS', 'since': 2012, 'score': 3.81/7})"
   ]
  },
  {
   "cell_type": "code",
   "execution_count": 73,
   "metadata": {},
   "outputs": [],
   "source": [
    "f_csv = open(file_path, mode='w')\n",
    "\n",
    "# The csv file is treated as a dictionary, therefore in this case we must provide \n",
    "# the keys/fieldnames to the csv writer, which are passed as a list using the \n",
    "# fieldnames argument\n",
    "#\n",
    "field_names = ['name','dept','since','score']\n",
    "csv_writer = csv.DictWriter(f_csv, delimiter=',', fieldnames=field_names)"
   ]
  },
  {
   "cell_type": "code",
   "execution_count": 74,
   "metadata": {},
   "outputs": [],
   "source": [
    "# The first row must contain the keys, since this will be used for writing further data\n",
    "# the .writeheader() methods does the job for us\n",
    "#\n",
    "csv_writer.writeheader()\n",
    "\n",
    "for d in employees_list:\n",
    "    csv_writer.writerow(d)\n",
    "\n",
    "f_csv.close()"
   ]
  },
  {
   "cell_type": "code",
   "execution_count": 75,
   "metadata": {},
   "outputs": [
    {
     "name": "stdout",
     "output_type": "stream",
     "text": [
      "name,dept,since,score\n",
      "John Smith,Eng,2004,0.6742857142857143\n",
      "Ann White,CS,2012,0.5442857142857143\n"
     ]
    }
   ],
   "source": [
    "# Let's check the file: \n",
    "display_file_content(file_path)"
   ]
  },
  {
   "cell_type": "code",
   "execution_count": 77,
   "metadata": {},
   "outputs": [],
   "source": [
    "# Let's read the file using csv dictionary methods, just to be sure that everything went well\n",
    "# We need to get a dict reader object this time\n",
    "# \n",
    "f_csv = open(file_path, mode='r')\n",
    "csv_data = csv.DictReader(f_csv)"
   ]
  },
  {
   "cell_type": "code",
   "execution_count": 78,
   "metadata": {},
   "outputs": [
    {
     "name": "stdout",
     "output_type": "stream",
     "text": [
      "John Smith   is in department Eng  since 2004 and has score 0.67\n",
      "Ann White    is in department CS   since 2012 and has score 0.54\n"
     ]
    }
   ],
   "source": [
    "# csv_data is already positioned after the header\n",
    "# \n",
    "keys = field_names\n",
    "for row in csv_data:\n",
    "    print('{:<12s} is in department {:4s} since {:4d} and has score {:4.2f}'.format(\n",
    "            row[keys[0]], row[keys[1]], int(row[keys[2]]), float(row[keys[3]])))\n",
    "f_csv.close()\n",
    "# everything looks good!"
   ]
  }
 ],
 "metadata": {
  "kernelspec": {
   "display_name": "Python 3",
   "language": "python",
   "name": "python3"
  },
  "language_info": {
   "codemirror_mode": {
    "name": "ipython",
    "version": 3
   },
   "file_extension": ".py",
   "mimetype": "text/x-python",
   "name": "python",
   "nbconvert_exporter": "python",
   "pygments_lexer": "ipython3",
   "version": "3.7.2"
  }
 },
 "nbformat": 4,
 "nbformat_minor": 2
}
