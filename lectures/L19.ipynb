{
 "cells": [
  {
   "cell_type": "code",
   "execution_count": null,
   "metadata": {},
   "outputs": [],
   "source": [
    "# So far we have been using the built-in Python's data types. \n",
    "# Each data type (e.g., int, str, list, set, file) represents a certain set of values,\n",
    "# it holds information. Also, each data type had a set of associated operations, via function\n",
    "# types, that allowed to manipulate the information. \n",
    "# In a sense, we treated data as passive entities that were manipulated and combined via \n",
    "# active operations. This is a traditional way to view computation. \n",
    "# To build complex (software) systems, however, it helps to take a richer view of the \n",
    "# relationship between data and operations.\n",
    "# Object-oriented (OO) design and development is one way to tackle modeling of and interaction\n",
    "# with complex systems."
   ]
  },
  {
   "cell_type": "code",
   "execution_count": null,
   "metadata": {},
   "outputs": [],
   "source": [
    "# The basic idea of object-oriented (OO) design is to view a complex system as the \n",
    "# interaction of simpler objects. The word objects is being used here in a specific technical \n",
    "# sense. An OO \"object\" is a sort of active data type that combines both data and operations. \n",
    "# Objects hold information, know stuff (they contain data), and they can act upon their and\n",
    "# other information data, they can do stuff (they have operations). \n",
    "# Objects interact by sending each other messages. A message is simply a request for an \n",
    "# object to perform one of its operations."
   ]
  },
  {
   "cell_type": "code",
   "execution_count": null,
   "metadata": {},
   "outputs": [],
   "source": [
    "# Example: management system for a university ... it's definitely a complex system!\n",
    "# Let's start from the basics: information about the enrolled students\n",
    "# Each student is an \"object\" of the university system.\n",
    "# Each student object must hold various information, including, for instance: name, ID number, \n",
    "# courses taken, campus address, home address, GPA, etc. \n",
    "# Each student object must be able to respond to specific requests (messages) from the \n",
    "# management system: it must be equipped with operations that can be invoked.\n",
    "# For instance, to send out a postal mail to all students, the management system\n",
    "# would need to get the address of each student being printed on a label.\n",
    "# In this case, a student object would include a method that when invoked does\n",
    "# the job of printing the student's address on the label.\n",
    "# Courses are also objects of the university system. \n",
    "# A course object would hold various information, including: who the instructor is, \n",
    "# what students are in the course, what the prerequisites are, and when and where the \n",
    "# course classes happen.\n",
    "# One example operation for a course object would consist in adding a student. \n",
    "# When invoked with a student object as an argument, this method would cause \n",
    "# the enrollment of the student in the course. \n",
    "# Teachers would be represented by another type of objects.\n",
    "# Also rooms, facilities, etc. would be represented by other types of objects ...\n",
    "# Overall, the software system would grow quite complex, since it has to model and\n",
    "# deal with a complex real-world system such as a university.\n",
    "#"
   ]
  },
  {
   "cell_type": "code",
   "execution_count": null,
   "metadata": {},
   "outputs": [],
   "source": [
    "# Let's consider the simple class to represent and interact with a dog \n",
    "# (e.g., an animated or a robotic one). \n",
    "# The attributes of interest include: color, eye color, height, length, weight, name, \n",
    "# status ('sitting', 'laying down', 'shaking', 'near me')\n",
    "# The methods to interact with the dog objects are: sit(), lay_down(), shake(), come()"
   ]
  },
  {
   "cell_type": "code",
   "execution_count": 36,
   "metadata": {},
   "outputs": [],
   "source": [
    "class Dog:\n",
    "    def __init__(self, color=None, eyes=None, \n",
    "                 height=None, length=None, weight=None, name=None):\n",
    "        self.color = color\n",
    "        self.eyes = eyes\n",
    "        self.height = height\n",
    "        self.length = length\n",
    "        self.weight = weight\n",
    "        self.name = name\n",
    "        self.status = None\n",
    "        \n",
    "    def sit(self):\n",
    "        if self.status != 'sitting':\n",
    "            print('Sit!')\n",
    "            # tell the dog to sit\n",
    "            self.status = 'sitting'\n",
    "        else:\n",
    "            print(\"It's sitting already!\")\n",
    "        \n",
    "    def lay_down(self):\n",
    "        if self.status != 'laying down':\n",
    "            print('Lay down!')\n",
    "            # tell the dog to lay down\n",
    "            self.status = 'laying down'\n",
    "        else:\n",
    "            print(\"It's laying down already!\")\n",
    "        \n",
    "    def shake(self):\n",
    "        if self.status != 'shaking':\n",
    "            print('Shake hands!')\n",
    "            # tell the dog to shake hands\n",
    "            self.status = 'shaking'\n",
    "        else:\n",
    "            print(\"It's shaking hands already!\")\n",
    "        \n",
    "    def come(self):\n",
    "        if self.status != 'near me':\n",
    "            print('Come here!')\n",
    "            # tell the dog to come close\n",
    "            self.status = 'near me'\n",
    "        else:\n",
    "            print(\"It's here already!\")\n",
    "    \n",
    "    def get_info(self):\n",
    "        info = '{} has {} fur and {} eyes, {}in tall, {}in long, {}kg weight'.format(\n",
    "                self.name, self.color, self.eyes, self.height, self.length, self.weight)\n",
    "        print(info)\n",
    "        return info\n",
    "    \n",
    "    def get_object_data(self):\n",
    "        print(self, type(self))\n",
    "        return type(self)\n",
    "    "
   ]
  },
  {
   "cell_type": "code",
   "execution_count": 37,
   "metadata": {},
   "outputs": [
    {
     "name": "stdout",
     "output_type": "stream",
     "text": [
      "Del Rayne\n",
      "Come here!\n",
      "It's here already!\n",
      "Rayne has gray fur and blue eyes, 18in tall, 36in long, 30kg weight\n",
      "Rayne has gray fur and blue eyes, 18in tall, 36in long, 30kg weight\n",
      "<__main__.Dog object at 0x1063b7f98> <class '__main__.Dog'>\n"
     ]
    },
    {
     "data": {
      "text/plain": [
       "__main__.Dog"
      ]
     },
     "execution_count": 37,
     "metadata": {},
     "output_type": "execute_result"
    }
   ],
   "source": [
    "rayne = Dog('gray', 'blue', 18, 36, 30, 'Rayne')\n",
    "rayne.come()\n",
    "rayne.come()\n",
    "s = rayne.get_info()\n",
    "print(s)\n",
    "rayne.get_object_data()\n"
   ]
  },
  {
   "cell_type": "code",
   "execution_count": 38,
   "metadata": {},
   "outputs": [
    {
     "name": "stdout",
     "output_type": "stream",
     "text": [
      "Del Skinny\n",
      "<__main__.Dog object at 0x1063b7898> <class '__main__.Dog'>\n"
     ]
    },
    {
     "data": {
      "text/plain": [
       "__main__.Dog"
      ]
     },
     "execution_count": 38,
     "metadata": {},
     "output_type": "execute_result"
    }
   ],
   "source": [
    "skinny = Dog('black', 'brown', 19, 38, 27, 'Skinny')\n",
    "skinny.get_object_data()\n",
    "# self values (i.e, ids of the two class objects) are different: skynny abd rayne are two different instances of \n",
    "# the same abstract class, Dog"
   ]
  },
  {
   "cell_type": "code",
   "execution_count": 41,
   "metadata": {},
   "outputs": [
    {
     "name": "stdout",
     "output_type": "stream",
     "text": [
      "brown\n"
     ]
    }
   ],
   "source": [
    "bully = Dog(name='Bully')\n",
    "bully.eyes = skinny.eyes\n",
    "print(bully.eyes)\n",
    "#\n",
    "# It is in general possible to access an internal variable directly, using the name of the class variable, \n",
    "# however this is not a good practice in terms of information hiding and code safety\n",
    "# A better way to proceed is by defining methods to access and set the values of internal attributes\n",
    "# e.g., in this case, the following two methods would do the work:\n",
    "#\n",
    "# def get_eyes():\n",
    "#    return self.eyes\n",
    "#\n",
    "# def set_eyes(eyes_color):\n",
    "#    self.eyes = eyes_color\n",
    "# \n",
    "# If a user needs to access / modify eyes' color, it can do it by using these easy to use methods, without messing\n",
    "# up with iternal variable names and types (that could be even difficult to ascertain from the code in some cases)"
   ]
  }
 ],
 "metadata": {
  "kernelspec": {
   "display_name": "Python 3",
   "language": "python",
   "name": "python3"
  },
  "language_info": {
   "codemirror_mode": {
    "name": "ipython",
    "version": 3
   },
   "file_extension": ".py",
   "mimetype": "text/x-python",
   "name": "python",
   "nbconvert_exporter": "python",
   "pygments_lexer": "ipython3",
   "version": "3.7.2"
  }
 },
 "nbformat": 4,
 "nbformat_minor": 2
}
